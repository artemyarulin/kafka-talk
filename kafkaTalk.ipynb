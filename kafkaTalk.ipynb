{
 "cells": [
  {
   "cell_type": "markdown",
   "metadata": {},
   "source": [
    "# Kafka / Kafka Ecosystem / Design patterns\n",
    "\n",
    "Realtime data stream processing"
   ]
  },
  {
   "cell_type": "markdown",
   "metadata": {
    "slideshow": {
     "slide_type": "slide"
    }
   },
   "source": [
    "- Apache Kafka is a stream-processing software platform\n",
    "- Created by LinkedIn in 2011\n",
    "- Open source under Apache. `Confluent` is main contributor\n",
    "- Used globally: \n",
    "    - Pinterest - Ads\n",
    "    - Netflix - Events\n",
    "    - DataDog - Input data\n",
    "    - Twitter - Input for Storm\n",
    "- Used locally: \n",
    "    - Unity - Events\n",
    "    - Nordea - ETL (Extract, Transorm, Load)\n",
    "    - Zalando - ESB (Enterprise service bus)"
   ]
  },
  {
   "cell_type": "markdown",
   "metadata": {
    "slideshow": {
     "slide_type": "slide"
    }
   },
   "source": [
    "<center><img style=\"height: 400px\" src=\"consumer.png\" /></center>"
   ]
  },
  {
   "cell_type": "markdown",
   "metadata": {
    "slideshow": {
     "slide_type": "slide"
    }
   },
   "source": [
    "<center><img style=\"height:400px\" src=\"partitions.png\" /></center>"
   ]
  },
  {
   "cell_type": "markdown",
   "metadata": {
    "slideshow": {
     "slide_type": "slide"
    }
   },
   "source": [
    "<center><img style=\"height: 400px\" src=\"streamsTables.png\" /></center>"
   ]
  },
  {
   "cell_type": "markdown",
   "metadata": {
    "slideshow": {
     "slide_type": "slide"
    }
   },
   "source": [
    "- Consume again and again\n",
    "- Persistent by default - Kafka is a DB\n",
    "- Ordering guarantees\n",
    "- 1M/s is common\n",
    "- Clear data - data retention / compaction / tombstone\n",
    "- Contracts - Avro, other binary protocols\n",
    "- You know your clients - consumer ID"
   ]
  },
  {
   "cell_type": "markdown",
   "metadata": {
    "slideshow": {
     "slide_type": "slide"
    }
   },
   "source": [
    "# Kafka is not a queue\n",
    "\n",
    "- Actually, it is a queue - everything else is not!\n",
    "- No selective ack\n",
    "- Accept duplicates\n",
    "- Possible to ack every message, but not usual\n",
    "- Shouldn't replace `[your favorite *MQ]`\n",
    "- Event? => Kafka\n",
    "- Data for action ? => `*MQ`"
   ]
  },
  {
   "cell_type": "markdown",
   "metadata": {
    "slideshow": {
     "slide_type": "slide"
    }
   },
   "source": [
    "# Kafka Streams\n",
    "\n",
    "```kotlin\n",
    "val stream = builder.stream(\"words\");\n",
    "val pattern = Pattern.compile(\"\\\\W+\");\n",
    "val counts = source.flatMapValues(value -> pattern.split())\n",
    "             .mapValues(value -> value.toLowerCase())\n",
    "             .filter((key, value) -> value != \"the\"))\n",
    "             .groupByKey()\n",
    "             .count(\"CountStore\")\n",
    "             .toStream()\n",
    "counts.to(\"counts\")\n",
    "```"
   ]
  },
  {
   "cell_type": "markdown",
   "metadata": {
    "slideshow": {
     "slide_type": "slide"
    }
   },
   "source": [
    "- KStream vs KTable\n",
    "<table style='font-size:20px' border=\"1\" class=\"docutils\">\n",
    "<thead valign=\"bottom\">\n",
    "<tr class=\"row-odd\"><th class=\"head\">Join operands</th>\n",
    "<th class=\"head\">Type</th>\n",
    "<th class=\"head\">(INNER) JOIN</th>\n",
    "<th class=\"head\">LEFT JOIN</th>\n",
    "<th class=\"head\">OUTER JOIN</th>\n",
    "</tr>\n",
    "</thead>\n",
    "<tbody valign=\"top\">\n",
    "<tr class=\"row-even\"><td>KStream-to-KStream</td>\n",
    "<td>Windowed</td>\n",
    "<td>Supported</td>\n",
    "<td>Supported</td>\n",
    "<td>Supported</td>\n",
    "</tr>\n",
    "<tr class=\"row-odd\"><td>KTable-to-KTable</td>\n",
    "<td>Non-windowed</td>\n",
    "<td>Supported</td>\n",
    "<td>Supported</td>\n",
    "<td>Supported</td>\n",
    "</tr>\n",
    "<tr class=\"row-even\"><td>KStream-to-KTable</td>\n",
    "<td>Non-windowed</td>\n",
    "<td>Supported</td>\n",
    "<td>Supported</td>\n",
    "<td>Not Supported</td>\n",
    "</tr>\n",
    "</tbody>\n",
    "</table>\n",
    "- Ex: User action <> Company user\n",
    "- Ex: Ad shown <> Ad clicked\n"
   ]
  },
  {
   "cell_type": "markdown",
   "metadata": {
    "slideshow": {
     "slide_type": "slide"
    }
   },
   "source": [
    "- Java lib - it's still about Consumers/Producers\n",
    "- Realtime stream processing\n",
    "- Scalable, masterless, rolling restarts\n",
    "- Join/Split/Aggregate/GroupBy streams\n",
    "- Stateful with failover(!) if needed\n",
    "    - Local state using RocksDB (or custom implementation)\n",
    "    - Remote state in Kafka\n",
    "- No backpressure needed as Kafka itself handles that"
   ]
  },
  {
   "cell_type": "markdown",
   "metadata": {
    "slideshow": {
     "slide_type": "slide"
    }
   },
   "source": [
    "# Kafka KSQL\n",
    "\n",
    "- Streaming SQL - streams without code, but with UDF\n",
    "```sql\n",
    "SELECT user_id, page, action FROM clickstream c\n",
    "  LEFT JOIN users u ON c.user_id = u.user_id\n",
    "  WHERE u.level = 'Platinum';\n",
    "```\n",
    "- Realtime continuous queries. CLI/WebUI\n",
    "- Observe data, change it - output it to new output topic"
   ]
  },
  {
   "cell_type": "markdown",
   "metadata": {
    "slideshow": {
     "slide_type": "slide"
    }
   },
   "source": [
    "# Kafka Connect\n",
    "\n",
    "- Stream to/from [TARGET] from/to Kafka\n",
    "- Mongo, Elastic, MySQL, Postgres, Cassandra, RabbitMQ, Redis\n",
    "- FTP, Files, SalesForce. Products from AWS, GCP, Oracle \n",
    "- Writing custom connectors is simple\n",
    "- Scalable - many workers\n",
    "\n",
    "\n",
    "- RedHat Debezium: MqSQL/Mongo/Postgres commit logs -> kafka"
   ]
  },
  {
   "cell_type": "markdown",
   "metadata": {
    "slideshow": {
     "slide_type": "slide"
    }
   },
   "source": [
    "# Kafka REST Proxy\n",
    "\n",
    "- Consume/Produce messages via REST call\n",
    "- Scalable\n",
    "- Ex: Create new topic from KSQL query, start consuming it via REST right away\n",
    "- Ex: CLI, scripts\n",
    "- Ex: Introduce Kafka without introducing Kafka\n"
   ]
  },
  {
   "cell_type": "markdown",
   "metadata": {
    "slideshow": {
     "slide_type": "slide"
    }
   },
   "source": [
    "# Batch vs Stream\n",
    "\n",
    "- Run every X minutes VS Put event into stream every X minutes\n",
    "    - Decouple schedule from the action\n",
    "    - Scalable\n",
    "- Batch cannot be reactive\n",
    "- Every hour make 20k req VS continuously processing 20000/60/60 = 5 req/s\n",
    "    - One liner to create KStream with needed data\n",
    "- History for free\n",
    "    - Don't do work if fresh enough\n",
    "    - Avoid duplicate processing"
   ]
  },
  {
   "cell_type": "markdown",
   "metadata": {
    "slideshow": {
     "slide_type": "slide"
    }
   },
   "source": [
    "# Extract > Transform > Load\n",
    "\n",
    "<img style=\"height:400px\" src=\"esb.png\" />\n",
    "\n",
    "\n",
    "\n"
   ]
  },
  {
   "cell_type": "markdown",
   "metadata": {
    "slideshow": {
     "slide_type": "slide"
    }
   },
   "source": [
    "# How to split a monolith\n",
    "\n",
    "- Integration on top is hard\n",
    "- Integration on the data level\n",
    "    - Expose DB table as a stream\n",
    "    - Create REST wrapper on top of a stream\n",
    "    - Stop adding more clients to the monolith and point to new service\n",
    "    - Lower the load on the monolith\n",
    "    - Resilient to monolith errors\n",
    "    - Only read, but possible to proxy write to the monolith\n",
    "    - Few seconds lag (you cannot read your own writes!)"
   ]
  },
  {
   "cell_type": "markdown",
   "metadata": {
    "slideshow": {
     "slide_type": "slide"
    }
   },
   "source": [
    "# Microservices using Kafka Streams\n",
    "\n",
    "- Dataset is small? Cache it all using KTable and get 0ms joins\n",
    "- Stateful stateless services\n",
    "- Deliver configuration without restarts\n",
    "- Audit log\n",
    "\n"
   ]
  },
  {
   "cell_type": "markdown",
   "metadata": {
    "slideshow": {
     "slide_type": "slide"
    }
   },
   "source": [
    "# Event driven microservices without HTTP\n",
    "\n",
    "- HTTP on the edge - inside only events\n",
    "\n",
    "```Batch job => POST /company/register```\n",
    "\n",
    "VS\n",
    "\n",
    "```\n",
    "Batch \n",
    "    => Event CompanyRegistrationRequest \n",
    "        => Event CompanyRegistration \n",
    "            => SendEmailToCompanyAdmin\n",
    "            => CreateCompanyDB\n",
    "            => UpdateLandingPageCompaniesNum\n",
    "```\n",
    "\n"
   ]
  },
  {
   "cell_type": "markdown",
   "metadata": {
    "slideshow": {
     "slide_type": "slide"
    }
   },
   "source": [
    "<center style=\"font-size:40px;font-weight:bold\">Cache invalidation - solved<br><br><br><br>Questions?</center>"
   ]
  }
 ],
 "metadata": {
  "celltoolbar": "Slideshow",
  "kernelspec": {
   "display_name": "Python 3",
   "language": "python",
   "name": "python3"
  },
  "language_info": {
   "codemirror_mode": {
    "name": "ipython",
    "version": 3
   },
   "file_extension": ".py",
   "mimetype": "text/x-python",
   "name": "python",
   "nbconvert_exporter": "python",
   "pygments_lexer": "ipython3",
   "version": "3.6.4"
  }
 },
 "nbformat": 4,
 "nbformat_minor": 2
}
