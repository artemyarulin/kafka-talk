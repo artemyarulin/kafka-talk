{
 "cells": [
  {
   "cell_type": "markdown",
   "metadata": {},
   "source": [
    "# Kafka / Kafka Ecosystem / Design patterns"
   ]
  },
  {
   "cell_type": "markdown",
   "metadata": {
    "slideshow": {
     "slide_type": "slide"
    }
   },
   "source": [
    "- Created by LinkedIn in 2011\n",
    "- Open source under Apache. `Confluent` is main contibutor\n",
    "- Used globally: \n",
    "    - Pinterest - Ads\n",
    "    - Netflix - Events\n",
    "    - DataDog - Input data\n",
    "    - Twitter - Input for Storm\n",
    "- Used locally: \n",
    "    - Unity - Logs, integrations\n",
    "    - Nordea - ETL (Extract, Transorm, Load)\n",
    "    - Zalando - ESB (Enterprise service bus)"
   ]
  },
  {
   "cell_type": "markdown",
   "metadata": {
    "slideshow": {
     "slide_type": "slide"
    }
   },
   "source": [
    "<img style=\"height: 400px\" src=\"consumer.png\" />"
   ]
  },
  {
   "cell_type": "markdown",
   "metadata": {
    "slideshow": {
     "slide_type": "slide"
    }
   },
   "source": [
    "<img style=\"height:400px\" src=\"partitions.png\" />"
   ]
  },
  {
   "cell_type": "markdown",
   "metadata": {
    "slideshow": {
     "slide_type": "slide"
    }
   },
   "source": [
    "<img style=\"height: 400px\" src=\"streamsTables.png\" />"
   ]
  },
  {
   "cell_type": "markdown",
   "metadata": {
    "slideshow": {
     "slide_type": "slide"
    }
   },
   "source": [
    "- Consume again and again\n",
    "- Persistent by default - Kafka is a DB\n",
    "- Ordering guarantees\n",
    "- 1M/s is common\n",
    "- Clear data\n",
    "    - Data retention - ex. max 2 days\n",
    "    - Compaction - delete previous values of the key\n",
    "    - Tombstone - delete all values of the key"
   ]
  },
  {
   "cell_type": "markdown",
   "metadata": {
    "slideshow": {
     "slide_type": "slide"
    }
   },
   "source": [
    "# Kafka is not a queue\n",
    "\n",
    "- Actually it is a queue - everything else is not!\n",
    "- No selective ack\n",
    "- Possible to ack every message, but not usual\n",
    "- Shouldn't replace `[your favorite *MQ]`\n",
    "- Event ? => Kafka\n",
    "- Action ? => `*MQ`\n",
    "\n"
   ]
  },
  {
   "cell_type": "markdown",
   "metadata": {
    "slideshow": {
     "slide_type": "slide"
    }
   },
   "source": [
    "# Kafka Streams\n",
    "\n",
    "- Java lib - it's still about Consumers/Producers\n",
    "- Real time stream processing\n",
    "- Join/Split/Aggregate/GroupBy streams\n",
    "- Stateful if needed\n",
    "    - Local state using RocksDB\n",
    "    - Remote state in Kafka"
   ]
  },
  {
   "cell_type": "markdown",
   "metadata": {
    "slideshow": {
     "slide_type": "slide"
    }
   },
   "source": [
    "```kotlin\n",
    "val stream = builder.stream(\"words\");\n",
    "val pattern = Pattern.compile(\"\\\\W+\");\n",
    "val counts = source.flatMapValues(value -> pattern.split())\n",
    "             .mapValues(value -> value.toLowerCase())\n",
    "             .filter((key, value) -> value != \"the\"))\n",
    "             .groupByKey()\n",
    "             .count(\"CountStore\")\n",
    "             .toStream()\n",
    "counts.to(\"counts\")\n",
    "```"
   ]
  },
  {
   "cell_type": "markdown",
   "metadata": {
    "slideshow": {
     "slide_type": "slide"
    }
   },
   "source": [
    "# Kafka KSQL\n",
    "\n",
    "- Streaming SQL - streams without code, but with UDF\n",
    "```sql\n",
    "SELECT user_id, page, action FROM clickstream c\n",
    "  LEFT JOIN users u ON c.user_id = u.user_id\n",
    "  WHERE u.level = 'Platinum';\n",
    "```\n",
    "- Realtime continuous queries. CLI/WebUI\n",
    "- Observe data, change it - output it to new output topic"
   ]
  },
  {
   "cell_type": "markdown",
   "metadata": {},
   "source": []
  }
 ],
 "metadata": {
  "celltoolbar": "Slideshow",
  "kernelspec": {
   "display_name": "Python 3",
   "language": "python",
   "name": "python3"
  },
  "language_info": {
   "codemirror_mode": {
    "name": "ipython",
    "version": 3
   },
   "file_extension": ".py",
   "mimetype": "text/x-python",
   "name": "python",
   "nbconvert_exporter": "python",
   "pygments_lexer": "ipython3",
   "version": "3.6.4"
  }
 },
 "nbformat": 4,
 "nbformat_minor": 2
}
